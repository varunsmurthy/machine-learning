{
 "cells": [
  {
   "cell_type": "markdown",
   "metadata": {},
   "source": [
    "Here, we use multivariate linear regression to predice the value of a house given its area and number of bedrooms. Let's begin by writing the UDF that applies feature scaling and mean normalization to the input data."
   ]
  },
  {
   "cell_type": "code",
   "execution_count": 1,
   "metadata": {
    "collapsed": false
   },
   "outputs": [
    {
     "name": "stdout",
     "output_type": "stream",
     "text": [
      "Created file 'C:\\Varun\\Programming\\MachineLearning\\1.Tutorials\\1.Coursera_AndrewNg\\Week_2\\featureNormalize.m'.\n"
     ]
    }
   ],
   "source": [
    "%%file featureNormalize.m\n",
    "\n",
    "function [X_norm, mu, sigma] = featureNormalize(X)\n",
    "\n",
    "feature_count = size(X, 2);\n",
    "\n",
    "mu = mean(X);\n",
    "sigma = std(X);\n",
    "X_norm = (X - mu)./(sigma);\n",
    "\n",
    "end"
   ]
  },
  {
   "cell_type": "markdown",
   "metadata": {},
   "source": [
    "Also create the functions to compute the cost function and perform gradient descent."
   ]
  },
  {
   "cell_type": "code",
   "execution_count": 2,
   "metadata": {
    "collapsed": false
   },
   "outputs": [
    {
     "name": "stdout",
     "output_type": "stream",
     "text": [
      "Created file 'C:\\Varun\\Programming\\MachineLearning\\1.Tutorials\\1.Coursera_AndrewNg\\Week_2\\computeCostMulti.m'.\n"
     ]
    }
   ],
   "source": [
    "%%file computeCostMulti.m\n",
    "\n",
    "function J = computeCostMulti(X, y, theta)\n",
    "m = length(y); % number of training examples\n",
    "J = (sum((X*theta - y).^2))./(2*m);\n",
    "end"
   ]
  },
  {
   "cell_type": "code",
   "execution_count": 3,
   "metadata": {
    "collapsed": false
   },
   "outputs": [
    {
     "name": "stdout",
     "output_type": "stream",
     "text": [
      "Created file 'C:\\Varun\\Programming\\MachineLearning\\1.Tutorials\\1.Coursera_AndrewNg\\Week_2\\gradientDescentMulti.m'.\n"
     ]
    }
   ],
   "source": [
    "%%file gradientDescentMulti.m\n",
    "\n",
    "function [theta, J_history] = gradientDescentMulti(X, y, theta, alpha, num_iters)\n",
    "\n",
    "m = length(y); % number of training examples\n",
    "J_history = zeros(num_iters, 1);\n",
    "parameter_count = size(theta,1);\n",
    "temp_theta = theta;\n",
    "\n",
    "for iter = 1:num_iters\n",
    "    for j=1:parameter_count\n",
    "        temp_theta(j) = theta(j) - (alpha.*(sum((X*theta - y).*X(:,j))))./(m);\n",
    "    end\n",
    "\n",
    "    %update theta with the newly calculated theta\n",
    "    theta = temp_theta;\n",
    "    \n",
    "    % Save the cost J in every iteration    \n",
    "    J_history(iter) = computeCostMulti(X, y, theta);\n",
    "\n",
    "end\n",
    "end"
   ]
  },
  {
   "cell_type": "markdown",
   "metadata": {},
   "source": [
    "Load the input data and compute the model. Also plot the evolution of the cost function with each iteration. "
   ]
  },
  {
   "cell_type": "code",
   "execution_count": 4,
   "metadata": {
    "collapsed": false
   },
   "outputs": [
    {
     "name": "stdout",
     "output_type": "stream",
     "text": [
      "Normalizing Features ...\n",
      "Running gradient descent ...\n",
      "Theta computed from gradient descent: \n",
      " 340397.963535 \n",
      " 109848.008460 \n",
      " -5866.454085 \n",
      "\n",
      "\n"
     ]
    }
   ],
   "source": [
    "data = load('machine-learning-ex1\\ex1\\ex1data2.txt');\n",
    "X = data(:, 1:2);\n",
    "y = data(:, 3);\n",
    "m = length(y);\n",
    "\n",
    "fprintf('Normalizing Features ...\\n');\n",
    "\n",
    "[X mu sigma] = featureNormalize(X);\n",
    "% Add intercept term to X\n",
    "X = [ones(m, 1) X];\n",
    "\n",
    "fprintf('Running gradient descent ...\\n');\n",
    "\n",
    "% Choose some alpha value\n",
    "alpha = 0.01;\n",
    "num_iters = 1000;\n",
    "\n",
    "% Init Theta and Run Gradient Descent \n",
    "theta = zeros(3, 1);\n",
    "[theta, J_history] = gradientDescentMulti(X, y, theta, alpha, num_iters);\n",
    "\n",
    "% Display gradient descent's result\n",
    "fprintf('Theta computed from gradient descent: \\n');\n",
    "fprintf(' %f \\n', theta);\n",
    "fprintf('\\n');"
   ]
  },
  {
   "cell_type": "code",
   "execution_count": 5,
   "metadata": {
    "collapsed": false
   },
   "outputs": [
    {
     "name": "stdout",
     "output_type": "stream",
     "text": [
      "\n"
     ]
    },
    {
     "data": {
      "image/png": "[encoded data removed]",
      "text/plain": [
       "<IPython.core.display.Image object>"
      ]
     },
     "metadata": {},
     "output_type": "display_data"
    }
   ],
   "source": [
    "% Plot the convergence graph\n",
    "figure;\n",
    "plot(1:numel(J_history), J_history, '-b', 'LineWidth', 2);\n",
    "xlabel('Number of iterations');\n",
    "ylabel('Cost J');"
   ]
  },
  {
   "cell_type": "markdown",
   "metadata": {},
   "source": [
    "Use the model to compute the price of a 1650 sq. ft. house with 3 bed rooms."
   ]
  },
  {
   "cell_type": "code",
   "execution_count": 6,
   "metadata": {
    "collapsed": false
   },
   "outputs": [
    {
     "name": "stdout",
     "output_type": "stream",
     "text": [
      "Predicted price of a 1650 sq-ft, 3 br house (using gradient descent):\n",
      " $293237.161479\n",
      "\n"
     ]
    }
   ],
   "source": [
    "ip_area = 1650;\n",
    "ip_room_count = 3;\n",
    "\n",
    "ip_area_norm = (ip_area - mu(1))./sigma(1);\n",
    "ip_room_count_norm = (ip_room_count - mu(2))./sigma(2);\n",
    "\n",
    "ip_parameters = [1 ip_area_norm ip_room_count_norm];\n",
    "\n",
    "price = ip_parameters*theta;\n",
    "\n",
    "% ============================================================\n",
    "\n",
    "fprintf(['Predicted price of a 1650 sq-ft, 3 br house ' ...\n",
    "         '(using gradient descent):\\n $%f\\n'], price);"
   ]
  },
  {
   "cell_type": "markdown",
   "metadata": {},
   "source": [
    "Let's now use the normal equation to minimize the cost function instead of the iterative gradient descent algorithm."
   ]
  },
  {
   "cell_type": "code",
   "execution_count": 7,
   "metadata": {
    "collapsed": false
   },
   "outputs": [
    {
     "name": "stdout",
     "output_type": "stream",
     "text": [
      "Created file 'C:\\Varun\\Programming\\MachineLearning\\1.Tutorials\\1.Coursera_AndrewNg\\Week_2\\normalEqn.m'.\n"
     ]
    }
   ],
   "source": [
    "%%file normalEqn.m\n",
    "\n",
    "function [theta] = normalEqn(X, y)\n",
    "\n",
    "theta = pinv(transpose(X)*X)*transpose(X)*y;"
   ]
  },
  {
   "cell_type": "code",
   "execution_count": 10,
   "metadata": {
    "collapsed": false
   },
   "outputs": [
    {
     "name": "stdout",
     "output_type": "stream",
     "text": [
      "Predicted price of a 1650 sq-ft, 3 br house (using normal equations):\n",
      " $293081.464335\n",
      "\n"
     ]
    }
   ],
   "source": [
    "data = load('machine-learning-ex1\\ex1\\ex1data2.txt');\n",
    "X = data(:, 1:2);\n",
    "y = data(:, 3);\n",
    "m = length(y);\n",
    "\n",
    "X = [ones(m, 1) X];\n",
    "\n",
    "theta = normalEqn(X, y);\n",
    "\n",
    "ip_area = 1650;\n",
    "ip_room_count = 3;\n",
    "\n",
    "ip_parameters = [1 ip_area ip_room_count];\n",
    "\n",
    "price = ip_parameters*theta;\n",
    "\n",
    "fprintf(['Predicted price of a 1650 sq-ft, 3 br house ' ...\n",
    "         '(using normal equations):\\n $%f\\n'], price);"
   ]
  },
  {
   "cell_type": "markdown",
   "metadata": {},
   "source": [
    "The predicted price using the gradient descent method and the normal equation are roughly the same, as they should be."
   ]
  }
 ],
 "metadata": {
  "kernelspec": {
   "display_name": "Matlab",
   "language": "matlab",
   "name": "matlab"
  },
  "language_info": {
   "codemirror_mode": "octave",
   "file_extension": ".m",
   "help_links": [
    {
     "text": "MetaKernel Magics",
     "url": "https://github.com/calysto/metakernel/blob/master/metakernel/magics/README.md"
    }
   ],
   "mimetype": "text/x-octave",
   "name": "matlab",
   "version": "0.15.0"
  }
 },
 "nbformat": 4,
 "nbformat_minor": 2
}
